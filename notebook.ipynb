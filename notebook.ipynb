{
 "cells": [
  {
   "cell_type": "code",
   "execution_count": null,
   "metadata": {},
   "outputs": [],
   "source": [
    "from langchain.chat_models import ChatOpenAI\n",
    "from langchain.prompts import ChatPromptTemplate\n",
    "from langchain.schema import StrOutputParser\n",
    "from langchain.schema.runnable import RunnablePassthrough"
   ]
  },
  {
   "cell_type": "code",
   "execution_count": null,
   "metadata": {},
   "outputs": [],
   "source": [
    "model = ChatOpenAI(temperature=0.1)"
   ]
  },
  {
   "cell_type": "code",
   "execution_count": null,
   "metadata": {},
   "outputs": [],
   "source": [
    "haiku_template = ChatPromptTemplate.from_template(\n",
    "    \"\"\"You are a poet who specializes in writing haikus about programming languages.\n",
    "    A haiku is a three-line poem where the first line has 5 syllables, the second line has 7 syllables, \n",
    "    and the third line has 5 syllables.\n",
    "    \n",
    "    Write a creative and insightful haiku about the programming language: {language}.\n",
    "    \n",
    "    Only return the haiku itself, nothing else.\"\"\"\n",
    ")"
   ]
  },
  {
   "cell_type": "code",
   "execution_count": null,
   "metadata": {},
   "outputs": [],
   "source": [
    "# Create the haiku generation chain\n",
    "haiku_chain = haiku_template | model | StrOutputParser()"
   ]
  },
  {
   "cell_type": "code",
   "execution_count": null,
   "metadata": {},
   "outputs": [],
   "source": [
    "# Define the prompt template for explaining haikus\n",
    "explanation_template = ChatPromptTemplate.from_template(\n",
    "    \"\"\"You are an expert in literary analysis, specializing in haikus.\n",
    "    \n",
    "    Analyze and explain the following haiku about {language} programming language:\n",
    "    \n",
    "    {haiku}\n",
    "    \n",
    "    Provide a thoughtful explanation of the imagery, metaphors, and how it relates to the {language} programming language.\n",
    "    Your explanation should be informative but concise.\"\"\"\n",
    ")"
   ]
  },
  {
   "cell_type": "code",
   "execution_count": null,
   "metadata": {},
   "outputs": [],
   "source": [
    "# Create the explanation chain\n",
    "explanation_chain = explanation_template | model | StrOutputParser()"
   ]
  },
  {
   "cell_type": "code",
   "execution_count": null,
   "metadata": {},
   "outputs": [],
   "source": [
    "# Define the combined chain\n",
    "def combine_haiku_and_explanation(inputs):\n",
    "    return {\n",
    "        \"haiku\": inputs[\"haiku\"],\n",
    "        \"explanation\": inputs[\"explanation\"],\n",
    "        \"language\": inputs[\"language\"],\n",
    "    }\n",
    "\n",
    "\n",
    "# Create the final chain using LCEL\n",
    "final_chain = (\n",
    "    {\"language\": RunnablePassthrough()}\n",
    "    | {\"haiku\": haiku_chain, \"language\": RunnablePassthrough()}\n",
    "    | {\n",
    "        \"haiku\": lambda x: x[\"haiku\"],\n",
    "        \"explanation\": explanation_chain,\n",
    "        \"language\": lambda x: x[\"language\"],\n",
    "    }\n",
    "    | combine_haiku_and_explanation\n",
    ")"
   ]
  },
  {
   "cell_type": "code",
   "execution_count": null,
   "metadata": {},
   "outputs": [],
   "source": [
    "# Test the chain with a programming language\n",
    "result = final_chain.invoke(\"Python\")\n",
    "\n",
    "print(f\"Programming Language: {result['language']}\\n\")\n",
    "print(f\"Haiku:\\n{result['haiku']}\\n\")\n",
    "print(f\"Explanation:\\n{result['explanation']}\")"
   ]
  }
 ],
 "metadata": {
  "language_info": {
   "name": "python"
  }
 },
 "nbformat": 4,
 "nbformat_minor": 2
}

{
 "cells": [
  {
   "cell_type": "code",
   "execution_count": 2,
   "metadata": {},
   "outputs": [],
   "source": [
    "from langchain.memory import ConversationSummaryBufferMemory\n",
    "from langchain.chat_models import ChatOpenAI\n",
    "from langchain.schema.runnable import RunnablePassthrough\n",
    "from langchain.prompts import ChatPromptTemplate, MessagesPlaceholder\n",
    "from langchain.prompts.few_shot import FewShotChatMessagePromptTemplate\n",
    "from langchain.callbacks import StreamingStdOutCallbackHandler\n",
    "\n",
    "llm = ChatOpenAI(\n",
    "    temperature=0.1,\n",
    "    streaming=True,\n",
    "    callbacks=[\n",
    "        StreamingStdOutCallbackHandler(),\n",
    "    ],\n",
    ")\n",
    "\n",
    "memory = ConversationSummaryBufferMemory(\n",
    "    llm=llm,\n",
    "    max_token_limit=120,\n",
    "    return_messages=True,\n",
    ")"
   ]
  },
  {
   "cell_type": "code",
   "execution_count": 3,
   "metadata": {},
   "outputs": [],
   "source": [
    "movie_emoji_examples = [\n",
    "    {\"movie\": \"The Matrix\", \"emojis\": \"🕶️💊🤖\"},\n",
    "    {\"movie\": \"The Lion King\", \"emojis\": \"🦁👑🌅\"},\n",
    "    {\"movie\": \"Titanic\", \"emojis\": \"🚢❤️🧊\"},\n",
    "    {\"movie\": \"Star Wars\", \"emojis\": \"⭐🔫🚀\"},\n",
    "    {\"movie\": \"Jurassic Park\", \"emojis\": \"🦖🏝️🧬\"},\n",
    "]\n",
    "\n",
    "example_prompt = ChatPromptTemplate.from_messages(\n",
    "    [\n",
    "        (\"human\", \"Give me three emojis that represent the movie: {movie}\"),\n",
    "        (\"ai\", \"{emojis}\"),\n",
    "    ]\n",
    ")\n",
    "\n",
    "few_shot_prompt = FewShotChatMessagePromptTemplate(\n",
    "    example_prompt=example_prompt,\n",
    "    examples=movie_emoji_examples,\n",
    ")\n",
    "\n",
    "prompt = ChatPromptTemplate.from_messages(\n",
    "    [\n",
    "        (\n",
    "            \"system\",\n",
    "            \"You are a movie expert who represents movies using exactly three emojis. Always respond with exactly three emojis that best capture the theme, characters, or plot of the movie. No words or explanations.\",\n",
    "        ),\n",
    "        few_shot_prompt,\n",
    "        MessagesPlaceholder(variable_name=\"history\"),\n",
    "        (\"human\", \"Give me three emojis that represent the movie: {movie}\"),\n",
    "    ]\n",
    ")"
   ]
  },
  {
   "cell_type": "code",
   "execution_count": 4,
   "metadata": {},
   "outputs": [],
   "source": [
    "def load_memory(_):\n",
    "    return memory.load_memory_variables({})[\"history\"]\n",
    "\n",
    "\n",
    "chain = RunnablePassthrough.assign(history=load_memory) | prompt | llm\n",
    "\n",
    "\n",
    "def invoke_chain(movie_title):\n",
    "    result = chain.invoke({\"movie\": movie_title})\n",
    "\n",
    "    memory.save_context(\n",
    "        {\"input\": f\"Give me three emojis that represent the movie: {movie_title}\"},\n",
    "        {\"output\": result.content},\n",
    "    )\n",
    "\n",
    "    return result.content\n",
    "\n",
    "\n",
    "def ask_about_history(question):\n",
    "    result = chain.invoke({\"movie\": question})\n",
    "\n",
    "    memory.save_context({\"input\": question}, {\"output\": result.content})\n",
    "\n",
    "    return result.content"
   ]
  },
  {
   "cell_type": "code",
   "execution_count": null,
   "metadata": {},
   "outputs": [],
   "source": [
    "invoke_chain(\"Top Gun\")"
   ]
  },
  {
   "cell_type": "code",
   "execution_count": null,
   "metadata": {},
   "outputs": [],
   "source": [
    "invoke_chain(\"The Godfather\")"
   ]
  },
  {
   "cell_type": "code",
   "execution_count": null,
   "metadata": {},
   "outputs": [],
   "source": [
    "ask_about_history(\"What was the first movie I asked about?\")"
   ]
  }
 ],
 "metadata": {
  "kernelspec": {
   "display_name": "llm",
   "language": "python",
   "name": "python3"
  },
  "language_info": {
   "codemirror_mode": {
    "name": "ipython",
    "version": 3
   },
   "file_extension": ".py",
   "mimetype": "text/x-python",
   "name": "python",
   "nbconvert_exporter": "python",
   "pygments_lexer": "ipython3",
   "version": "3.12.2"
  }
 },
 "nbformat": 4,
 "nbformat_minor": 2
}

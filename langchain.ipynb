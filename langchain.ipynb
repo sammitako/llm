{
 "cells": [
  {
   "cell_type": "code",
   "execution_count": 8,
   "metadata": {},
   "outputs": [],
   "source": [
    "from langchain.chat_models import ChatOpenAI\n",
    "from langchain.prompts import ChatPromptTemplate\n",
    "from langchain.callbacks import StreamingStdOutCallbackHandler"
   ]
  },
  {
   "cell_type": "code",
   "execution_count": 9,
   "metadata": {},
   "outputs": [],
   "source": [
    "model = ChatOpenAI(\n",
    "    model_name=\"gpt-3.5-turbo\",\n",
    "    streaming=True,\n",
    "    callbacks=[\n",
    "        StreamingStdOutCallbackHandler(),\n",
    "    ],\n",
    ")"
   ]
  },
  {
   "cell_type": "code",
   "execution_count": 10,
   "metadata": {},
   "outputs": [],
   "source": [
    "haiku_template = ChatPromptTemplate.from_template(\n",
    "    \"\"\"You are a poet who specializes in writing haikus about programming languages.\n",
    "    A haiku is a three-line poem where the first line has 5 syllables, the second line has 7 syllables, \n",
    "    and the third line has 5 syllables.\n",
    "    \n",
    "    Write a creative and insightful haiku about the programming language: {language}.\n",
    "    \n",
    "    Only return the haiku itself, nothing else.\"\"\"\n",
    ")"
   ]
  },
  {
   "cell_type": "code",
   "execution_count": 11,
   "metadata": {},
   "outputs": [],
   "source": [
    "# Create the haiku generation chain\n",
    "haiku_chain = haiku_template | model"
   ]
  },
  {
   "cell_type": "code",
   "execution_count": 12,
   "metadata": {},
   "outputs": [],
   "source": [
    "# Define the prompt template for explaining haikus\n",
    "explanation_template = ChatPromptTemplate.from_template(\n",
    "    \"\"\"You are an expert in literary analysis, specializing in haikus.\n",
    "    \n",
    "    Analyze and explain the following haiku about {language} programming language:\n",
    "    \n",
    "    {haiku}\n",
    "    \n",
    "    Provide a thoughtful explanation of the imagery, metaphors, and how it relates to the {language} programming language.\n",
    "    Your explanation should be informative but concise.\"\"\"\n",
    ")"
   ]
  },
  {
   "cell_type": "code",
   "execution_count": 6,
   "metadata": {},
   "outputs": [],
   "source": [
    "# Create the explanation chain\n",
    "explanation_chain = explanation_template | model"
   ]
  },
  {
   "cell_type": "code",
   "execution_count": null,
   "metadata": {},
   "outputs": [],
   "source": [
    "final_chain = {\"haiku\": haiku_chain} | explanation_chain\n",
    "final_chain.invoke({\"language\": \"Python\"})"
   ]
  }
 ],
 "metadata": {
  "kernelspec": {
   "display_name": "llm",
   "language": "python",
   "name": "python3"
  },
  "language_info": {
   "codemirror_mode": {
    "name": "ipython",
    "version": 3
   },
   "file_extension": ".py",
   "mimetype": "text/x-python",
   "name": "python",
   "nbconvert_exporter": "python",
   "pygments_lexer": "ipython3",
   "version": "3.12.2"
  }
 },
 "nbformat": 4,
 "nbformat_minor": 2
}
